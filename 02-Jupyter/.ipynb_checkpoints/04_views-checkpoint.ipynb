{
 "cells": [
  {
   "cell_type": "code",
   "execution_count": 1,
   "metadata": {},
   "outputs": [],
   "source": [
    "import numpy as np"
   ]
  },
  {
   "cell_type": "code",
   "execution_count": 15,
   "metadata": {},
   "outputs": [
    {
     "data": {
      "text/plain": [
       "array(['Pera', 'Naranja', 'Sandia', 'Melón', 'Mandarina', 'Piña'],\n",
       "      dtype='<U9')"
      ]
     },
     "execution_count": 15,
     "metadata": {},
     "output_type": "execute_result"
    }
   ],
   "source": [
    "frutas = np.array(['Pera', 'Naranja', 'Sandia', 'Melón', 'Mandarina', 'Piña'])\n",
    "frutas"
   ]
  },
  {
   "cell_type": "code",
   "execution_count": 16,
   "metadata": {},
   "outputs": [],
   "source": [
    "cesta_frutas_uno = frutas.view()\n",
    "cesta_frutas_dos = frutas.view()"
   ]
  },
  {
   "cell_type": "code",
   "execution_count": 13,
   "metadata": {},
   "outputs": [
    {
     "name": "stdout",
     "output_type": "stream",
     "text": [
      "2352121093456\n",
      "2352121093936\n",
      "2352146057616\n"
     ]
    }
   ],
   "source": [
    "print(id(frutas))\n",
    "print(id(cesta_frutas_uno))\n",
    "print(id(cesta_frutas_dos))"
   ]
  },
  {
   "cell_type": "code",
   "execution_count": 5,
   "metadata": {},
   "outputs": [
    {
     "name": "stdout",
     "output_type": "stream",
     "text": [
      "False\n",
      "False\n"
     ]
    }
   ],
   "source": [
    "print(cesta_frutas_uno is frutas)\n",
    "print(cesta_frutas_dos is frutas)"
   ]
  },
  {
   "cell_type": "code",
   "execution_count": 6,
   "metadata": {},
   "outputs": [
    {
     "name": "stdout",
     "output_type": "stream",
     "text": [
      "True\n",
      "True\n"
     ]
    }
   ],
   "source": [
    "print(cesta_frutas_uno.base is frutas)\n",
    "print(cesta_frutas_dos.base is frutas)"
   ]
  },
  {
   "cell_type": "code",
   "execution_count": 14,
   "metadata": {},
   "outputs": [
    {
     "name": "stdout",
     "output_type": "stream",
     "text": [
      "['Piña' 'Naranja' 'Sandia' 'Melón' 'Mandarina' 'Piña']\n",
      "['Piña' 'Naranja' 'Sandia' 'Melón' 'Mandarina' 'Piña']\n",
      "['Piña' 'Naranja' 'Sandia' 'Melón' 'Mandarina' 'Piña']\n"
     ]
    }
   ],
   "source": [
    "cesta_frutas_uno[0] = 'Piña'\n",
    "print(frutas)\n",
    "print(cesta_frutas_uno)\n",
    "print(cesta_frutas_dos)"
   ]
  },
  {
   "cell_type": "code",
   "execution_count": 17,
   "metadata": {},
   "outputs": [],
   "source": [
    "cesta_frutas_uno = np.array(['Frutilla', 'Uva', 'Papaya', 'Plátano'])"
   ]
  },
  {
   "cell_type": "code",
   "execution_count": 18,
   "metadata": {},
   "outputs": [
    {
     "name": "stdout",
     "output_type": "stream",
     "text": [
      "['Frutilla' 'Uva' 'Papaya' 'Plátano']\n",
      "['Pera' 'Naranja' 'Sandia' 'Melón' 'Mandarina' 'Piña']\n",
      "['Pera' 'Naranja' 'Sandia' 'Melón' 'Mandarina' 'Piña']\n"
     ]
    }
   ],
   "source": [
    "print(cesta_frutas_uno)\n",
    "print(cesta_frutas_dos)\n",
    "print(frutas)"
   ]
  },
  {
   "cell_type": "code",
   "execution_count": 19,
   "metadata": {},
   "outputs": [],
   "source": [
    "cesta_frutas_dos.shape = 3,2"
   ]
  },
  {
   "cell_type": "code",
   "execution_count": 20,
   "metadata": {},
   "outputs": [
    {
     "name": "stdout",
     "output_type": "stream",
     "text": [
      "[['Pera' 'Naranja']\n",
      " ['Sandia' 'Melón']\n",
      " ['Mandarina' 'Piña']]\n",
      "['Pera' 'Naranja' 'Sandia' 'Melón' 'Mandarina' 'Piña']\n"
     ]
    }
   ],
   "source": [
    "print(cesta_frutas_dos)\n",
    "print(frutas)"
   ]
  },
  {
   "cell_type": "code",
   "execution_count": null,
   "metadata": {},
   "outputs": [],
   "source": []
  }
 ],
 "metadata": {
  "kernelspec": {
   "display_name": "Python 3",
   "language": "python",
   "name": "python3"
  },
  "language_info": {
   "codemirror_mode": {
    "name": "ipython",
    "version": 3
   },
   "file_extension": ".py",
   "mimetype": "text/x-python",
   "name": "python",
   "nbconvert_exporter": "python",
   "pygments_lexer": "ipython3",
   "version": "3.7.0"
  }
 },
 "nbformat": 4,
 "nbformat_minor": 2
}
